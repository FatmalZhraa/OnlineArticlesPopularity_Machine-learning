{
 "cells": [
  {
   "cell_type": "code",
   "execution_count": 8,
   "metadata": {},
   "outputs": [],
   "source": [
    "import pandas as pd\n",
    "import numpy as np\n",
    "import matplotlib.pyplot as plt\n",
    "\n",
    "from sklearn.metrics import confusion_matrix, accuracy_score, classification_report\n",
    "\n",
    "import pickle\n",
    "from sklearn.metrics import accuracy_score\n",
    "import time"
   ]
  },
  {
   "cell_type": "code",
   "execution_count": 9,
   "metadata": {},
   "outputs": [],
   "source": [
    "# Load saved models using pickle\n",
    "with open('Classfication_script.pkl', 'rb') as file:\n",
    "\n",
    "    loaded_logistic_regression_model = pickle.load(file)\n",
    "    X_scaler = pickle.load(file)\n",
    "    category_mapping1 = pickle.load(file)\n",
    "    category_mapping2 = pickle.load(file)\n",
    "    category_mapping3 = pickle.load(file)\n",
    "    target_mapping = pickle.load(file)"
   ]
  },
  {
   "cell_type": "code",
   "execution_count": 10,
   "metadata": {},
   "outputs": [],
   "source": [
    "# Load the unseen test data\n",
    "test_data = pd.read_csv(\"OnlineArticlesPopularity_classification_test.csv\")\n",
    "\n",
    "test_data.drop(['url', 'title' , ' timedelta'], axis=1, inplace=True)\n",
    "# Define the list of categorical columns\n",
    "categorical_columns = ['channel type', 'weekday', 'isWeekEnd']\n",
    "\n",
    "# Define mode value for each categorical column\n",
    "mode_values = {}\n",
    "for col in categorical_columns:\n",
    "    mode_values[col] = test_data[col].mode()[0]\n",
    "\n",
    "# Handle missing categorical values\n",
    "for col in categorical_columns:\n",
    "    test_data[col] = test_data[col].fillna(mode_values[col])\n",
    "\n",
    "# Iterate over each column in the test data\n",
    "for col in test_data.columns:\n",
    "    # Check if the column has missing values\n",
    "    if test_data[col].isnull().any():\n",
    "        # Fill missing values with the mode of the corresponding column from the training data\n",
    "        mode_value = data[col].mode()[0]  # Calculate mode value from training data\n",
    "        test_data[col].fillna(mode_value, inplace=True)\n",
    "\n"
   ]
  },
  {
   "cell_type": "code",
   "execution_count": 11,
   "metadata": {},
   "outputs": [],
   "source": [
    "# Handle unseen categories in the new test data\n",
    "test_data['channel type'] = test_data['channel type'].str.strip().apply(lambda x: category_mapping1.get(x, category_mapping1[test_data['channel type'].str.strip().mode()[0]]))\n",
    "test_data['weekday'] = test_data['weekday'].str.strip().apply(lambda x: category_mapping2.get(x, category_mapping2[test_data['weekday'].str.strip().mode()[0]]))\n",
    "test_data['isWeekEnd'] = test_data['isWeekEnd'].str.strip().apply(lambda x: category_mapping3.get(x, category_mapping3[test_data['isWeekEnd'].str.strip().mode()[0]]))"
   ]
  },
  {
   "cell_type": "code",
   "execution_count": 12,
   "metadata": {},
   "outputs": [
    {
     "name": "stderr",
     "output_type": "stream",
     "text": [
      "C:\\Users\\hp\\AppData\\Local\\Temp\\ipykernel_16668\\1123803788.py:1: FutureWarning: Downcasting behavior in `replace` is deprecated and will be removed in a future version. To retain the old behavior, explicitly call `result.infer_objects(copy=False)`. To opt-in to the future behavior, set `pd.set_option('future.no_silent_downcasting', True)`\n",
      "  test_data['Article Popularity'] = test_data['Article Popularity'].replace(target_mapping)\n"
     ]
    }
   ],
   "source": [
    "test_data['Article Popularity'] = test_data['Article Popularity'].replace(target_mapping)"
   ]
  },
  {
   "cell_type": "code",
   "execution_count": 13,
   "metadata": {},
   "outputs": [],
   "source": [
    "\n",
    "# Extract features and target variable\n",
    "test_X = test_data.drop(columns=['Article Popularity'])\n",
    "test_y = test_data['Article Popularity']\n",
    "\n",
    "# Scale the test data using the previously fitted StandardScaler\n",
    "test_X_scaled = X_scaler.transform(test_X)\n"
   ]
  },
  {
   "cell_type": "code",
   "execution_count": 14,
   "metadata": {},
   "outputs": [
    {
     "name": "stdout",
     "output_type": "stream",
     "text": [
      "Logistic Regression - Accuracy: 0.47152847152847155\n"
     ]
    }
   ],
   "source": [
    "# Make predictions using the loaded models\n",
    "\n",
    "lr_predictions = loaded_logistic_regression_model.predict(test_X_scaled)\n",
    "\n",
    "\n",
    "lr_accuracy = accuracy_score(test_y, lr_predictions)\n",
    "\n",
    "\n",
    "print(\"Logistic Regression - Accuracy:\", lr_accuracy)\n"
   ]
  }
 ],
 "metadata": {
  "kernelspec": {
   "display_name": "Python 3",
   "language": "python",
   "name": "python3"
  },
  "language_info": {
   "codemirror_mode": {
    "name": "ipython",
    "version": 3
   },
   "file_extension": ".py",
   "mimetype": "text/x-python",
   "name": "python",
   "nbconvert_exporter": "python",
   "pygments_lexer": "ipython3",
   "version": "3.11.9"
  }
 },
 "nbformat": 4,
 "nbformat_minor": 2
}
